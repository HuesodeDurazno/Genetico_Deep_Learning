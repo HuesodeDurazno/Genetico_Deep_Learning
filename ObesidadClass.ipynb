{
  "nbformat": 4,
  "nbformat_minor": 0,
  "metadata": {
    "colab": {
      "name": "ObesidadClass.ipynb",
      "provenance": [],
      "collapsed_sections": []
    },
    "kernelspec": {
      "display_name": "Python 3",
      "name": "python3"
    }
  },
  "cells": [
    {
      "cell_type": "markdown",
      "metadata": {
        "id": "Ibj2hNXm0Kx0"
      },
      "source": [
        "# Clasificación Categórica de niveles de obesidad a partir de datos estadísticos utilizando redes neuronales artificiales y algoritmos genéticos. "
      ]
    },
    {
      "cell_type": "markdown",
      "metadata": {
        "id": "1m67aqpy70_-"
      },
      "source": [
        "Se importan las librerías que se usarán, pandas nos permite manejar datos usando dataframes, numpy nos permite realizar operaciones matemáticas eficientemente con python, tensorflow y sklearn son librerías de machine learning."
      ]
    },
    {
      "cell_type": "code",
      "metadata": {
        "id": "cqNeej5uf2c3"
      },
      "source": [
        "import pandas as pd\n",
        "import numpy as np \n",
        "import matplotlib.pyplot as plt\n",
        "import sklearn\n",
        "from time import time\n",
        "from random import random\n",
        "\n",
        "from tensorflow.keras.models import Sequential\n",
        "from tensorflow.keras.layers import BatchNormalization\n",
        "from sklearn.model_selection import train_test_split\n",
        "from keras.layers import Dense\n",
        "from tensorflow.keras.utils import to_categorical \n",
        "from keras.optimizers import RMSprop\n",
        "from sklearn.preprocessing import OneHotEncoder\n",
        "from sklearn.preprocessing import LabelEncoder\n",
        "from sklearn.compose import make_column_transformer\n"
      ],
      "execution_count": 2,
      "outputs": []
    },
    {
      "cell_type": "markdown",
      "metadata": {
        "id": "VIwaDqWP-GNl"
      },
      "source": [
        "Preparación de datos, keras no permite variables con formato de string asi que es necesario convertir las variables categóricas en etiquetas numéricas por ejemplo en el campo \"gender\" male podria mapearse al número 0 y female al número 1."
      ]
    },
    {
      "cell_type": "code",
      "metadata": {
        "id": "SwQqJ8cBI7-q"
      },
      "source": [
        "df = pd.read_csv(\"https://raw.githubusercontent.com/ApplesOranges/ObesityPrediction/main/ObesityData.csv\")\n",
        "df['Gender'] = pd.Categorical(df['Gender'])\n",
        "df['Gender'] = df['Gender'].cat.codes\n",
        "df['Gender'] = pd.Categorical(df['Gender'])\n",
        "df['MTRANS'] = pd.Categorical(df['MTRANS'])\n",
        "df['MTRANS'] = df['MTRANS'].cat.codes\n",
        "df['MTRANS'] = pd.Categorical(df['MTRANS'])\n",
        "df['family_history_with_overweight'] = pd.Categorical(df['family_history_with_overweight'])\n",
        "df['family_history_with_overweight'] = df['family_history_with_overweight'].cat.codes\n",
        "df['family_history_with_overweight'] = pd.Categorical(df['family_history_with_overweight'])\n",
        "df['FAVC'] = pd.Categorical(df['FAVC'])\n",
        "df['FAVC'] = df['FAVC'].cat.codes\n",
        "df['FAVC'] = pd.Categorical(df['FAVC'])\n",
        "df['CAEC'] = pd.Categorical(df['CAEC'])\n",
        "df['CAEC'] = df['CAEC'].cat.codes\n",
        "df['CAEC'] = pd.Categorical(df['CAEC'])\n",
        "df['SMOKE'] = pd.Categorical(df['SMOKE'])\n",
        "df['SMOKE'] = df['SMOKE'].cat.codes\n",
        "df['SMOKE'] = pd.Categorical(df['SMOKE'])\n",
        "df['SCC'] = pd.Categorical(df['SCC'])\n",
        "df['SCC'] = df['SCC'].cat.codes\n",
        "df['SCC'] = pd.Categorical(df['SCC'])\n",
        "df['CALC'] = pd.Categorical(df['CALC'])\n",
        "df['CALC'] = df['CALC'].cat.codes\n",
        "df['CALC'] = pd.Categorical(df['CALC'])\n",
        "df['NObeyesdad'] = pd.Categorical(df['NObeyesdad'])\n",
        "df['NObeyesdad'] = df['NObeyesdad'].cat.codes\n",
        "df['NObeyesdad'] = pd.Categorical(df['NObeyesdad'])\n"
      ],
      "execution_count": 3,
      "outputs": []
    },
    {
      "cell_type": "markdown",
      "metadata": {
        "id": "JIqDRp6k-o1N"
      },
      "source": [
        "Separamos la variable a predecir de las demás, posteriormente dividimos la base de datos en datos de entrenamiento y datos para testing (20% del total)."
      ]
    },
    {
      "cell_type": "code",
      "metadata": {
        "colab": {
          "base_uri": "https://localhost:8080/"
        },
        "id": "xmDl9yiRnWnI",
        "outputId": "cf641c63-f168-4ddb-d7c3-86e42fe539f8"
      },
      "source": [
        "target_column = ['NObeyesdad'] \n",
        "predictors = list(set(list(df.columns))-set(target_column))\n",
        "x = df[predictors].values\n",
        "y = df[target_column].values\n",
        "x_train, x_test, y_train, y_test = train_test_split(x, y, test_size=0.20, random_state=40)\n",
        "print(x_train.shape); print(x_test.shape)"
      ],
      "execution_count": 4,
      "outputs": [
        {
          "output_type": "stream",
          "text": [
            "(1688, 16)\n",
            "(423, 16)\n"
          ],
          "name": "stdout"
        }
      ]
    },
    {
      "cell_type": "markdown",
      "metadata": {
        "id": "UF58XjQS_Soq"
      },
      "source": [
        "Se hizo una función que recibe los parámetros para poder usarla junto con el genético"
      ]
    },
    {
      "cell_type": "code",
      "metadata": {
        "id": "emXZHoVCqO1U"
      },
      "source": [
        "def trainNeuralNetwork(nLayers, nNeurons, nEpochs, LearningRate, moment):#se reciben los parametros de ajuste y regresa la función fitnness\n",
        "  model = Sequential()\n",
        "  model.add(Dense(nNeurons, activation='relu', input_dim=16))\n",
        "  for i in range(nLayers):\n",
        "    model.add(Dense(nNeurons, activation='relu'))\n",
        "  model.add(Dense(7, activation='softmax'))\n",
        "\n",
        "  model.compile(optimizer=RMSprop(learning_rate=LearningRate/1000, momentum=moment/100),\n",
        "                loss='sparse_categorical_crossentropy', \n",
        "                metrics=['accuracy'])\n",
        "\n",
        "  model.fit(x_train, y_train, epochs=nEpochs, verbose=0)\n",
        "  test_loss, test_acc = model.evaluate(x_train,  y_train, verbose=2)\n",
        "  print(\"teminado, épocas: \", nEpochs)\n",
        "  return test_acc"
      ],
      "execution_count": 5,
      "outputs": []
    },
    {
      "cell_type": "markdown",
      "metadata": {
        "id": "OJmhcTed_kp3"
      },
      "source": [
        "Funciones de utilidad como conversión de base."
      ]
    },
    {
      "cell_type": "code",
      "metadata": {
        "id": "SeF_P1Qj-lvz"
      },
      "source": [
        "#utils\n",
        "def bin2Dec(binary): #conversión de decimal a binario\n",
        "    binary=(int)(binary)\n",
        "    binary1 = binary \n",
        "    decimal, i, n = 0, 0, 0\n",
        "    while(binary != 0): \n",
        "        dec = binary % 10\n",
        "        decimal = decimal + dec * pow(2, i) \n",
        "        binary = binary//10\n",
        "        i += 1\n",
        "    return decimal \n",
        "\n",
        "def rellenado(lon, binario):#rellena con ceros un número binario para alcanzar una longitud\n",
        "    bn = binario\n",
        "    while len(bn)<lon:\n",
        "      bn=\"0\"+bn\n",
        "    return bn\n",
        "\n",
        "def dec2Bin(dec):#conversión de binario a decimal\n",
        "  return bin(dec).replace(\"0b\", \"\")      "
      ],
      "execution_count": 6,
      "outputs": []
    },
    {
      "cell_type": "code",
      "metadata": {
        "id": "h6pS4Lc7-y8B"
      },
      "source": [
        "#hijo\n",
        "class Child:\n",
        "  def __init__(self, code):\n",
        "    self.code = code\n",
        "    self.val = self.evaluate()\n",
        "\n",
        "  def evaluate(self):#divide la cadena de números binarios, los pasa a decimales y evalua los parametros\n",
        "    saved=self.code.split(\"-\")\n",
        "    return trainNeuralNetwork(bin2Dec(saved[0]), bin2Dec(saved[1]), bin2Dec(saved[2]), bin2Dec(saved[3]), bin2Dec(saved[4]))"
      ],
      "execution_count": 7,
      "outputs": []
    },
    {
      "cell_type": "markdown",
      "metadata": {
        "id": "kY6CYhii_wnV"
      },
      "source": [
        "Funciones pertenecientes al algoritmo genético."
      ]
    },
    {
      "cell_type": "code",
      "metadata": {
        "id": "rjSyIQ6d-uAq"
      },
      "source": [
        "#genetico\n",
        "import random\n",
        "from random import random as rand\n",
        "\n",
        "def hijoAlt():#crea un hijo aleatorio con los parametros especificados\n",
        "  cad=\"\"\n",
        "  aux=random.randint(1, 5)\n",
        "  cad=cad+rellenado(3,dec2Bin(aux))\n",
        "  cad+=\"-\"\n",
        "  aux=random.randint(7, 23)\n",
        "  cad=cad+rellenado(5,dec2Bin(aux))\n",
        "  cad+=\"-\"\n",
        "  aux=random.randint(100, 500)\n",
        "  cad=cad+rellenado(9,dec2Bin(aux))\n",
        "  cad+=\"-\"\n",
        "  aux=random.randint(1, 3)\n",
        "  cad=cad+rellenado(2,dec2Bin(aux))\n",
        "  cad+=\"-\"\n",
        "  aux=random.randint(1, 3)\n",
        "  cad=cad+rellenado(2,dec2Bin(aux))\n",
        "  return Child(cad)\n",
        "\n",
        "def genHijos(num:int):#genera un número determinado de hijos\n",
        "  lsHij=[]\n",
        "  for i in range(num):\n",
        "    lsHij.append(hijoAlt())\n",
        "  return lsHij\n",
        "\n",
        "def sort(children):#ordena los individuos por su función fitness del mayor al menor\n",
        "  for i in range(1, len(children)):\n",
        "    for j in range(0, len(children)-1):\n",
        "      if(children[j].val<children[j+1].val):\n",
        "        aux=children[j]\n",
        "        children[j]=children[j+1]\n",
        "        children[j+1]=aux\n",
        "  return children\n",
        "\n",
        "def combine(codex, codey, inf, sup):#evalua los rangos de un parametro\n",
        "  while(True):\n",
        "    mix = \"\"\n",
        "    randy=random.randint(0, len(codex))\n",
        "    mix+=codex[:randy]+codey[randy:]\n",
        "    if (bin2Dec(mix) >= inf and bin2Dec(mix) <= sup):\n",
        "      break\n",
        "  return mix\n",
        "\n",
        "def crossover(stud, normie):#operador de cruce\n",
        "  atNew=[]\n",
        "  atStud=stud.code.split(\"-\")\n",
        "  atNormie=normie.code.split(\"-\")\n",
        "  atNew.append(combine(atStud[0], atNormie[0], 1, 5));\n",
        "  atNew.append(combine(atStud[1], atNormie[1], 7, 23));\n",
        "  atNew.append(combine(atStud[2], atNormie[2], 100, 500));\n",
        "  atNew.append(combine(atStud[3], atNormie[3], 1, 3));\n",
        "  atNew.append(combine(atStud[4], atNormie[4], 1, 3));\n",
        "  newCode = atNew[0]+\"-\"+atNew[1]+\"-\"+atNew[2]+\"-\"+atNew[3]+\"-\"+atNew[4]\n",
        "  if(random.randint(0,100)<13):\n",
        "    mutate(newCode)\n",
        "  return Child(newCode)\n",
        "\n",
        "def mutate(code):#operador de mutación \n",
        "  while True:\n",
        "    randy=random.randint(0, len(code)-1)\n",
        "    s=list(code)\n",
        "    if code[randy] == '0':\n",
        "      s[randy] = '1'\n",
        "      break\n",
        "    elif code[randy] == '1':\n",
        "      s[randy] = '0'\n",
        "      break\n",
        "  return \"\".join(s)\n",
        "\n",
        "def nextGen(children):#genera una nueva generación a partir de una ya creada\n",
        "  sorted=sort(children)\n",
        "  studs = []\n",
        "  population = []\n",
        "  cont = 0\n",
        "  sum = 0\n",
        "  for i in range(len(sorted)):\n",
        "    sum+=sorted[i].val\n",
        "  \n",
        "  while(len(studs)<2):\n",
        "    i=0\n",
        "    while(i<len(sorted)):\n",
        "      if((sorted[i].val/sum)>=rand()):\n",
        "        studs.append(sorted[i])\n",
        "        sorted.pop(i)\n",
        "      else:\n",
        "        i+=1\n",
        "  for i in range(len(studs)):\n",
        "    for j in range(len(sorted)):\n",
        "      population.append(crossover(studs[i], sorted[j]))\n",
        "  sorted=sorted+studs\n",
        "  sorted=sorted+population\n",
        "  sorted=sort(sorted)\n",
        "  print(sorted)\n",
        "  return sorted\n"
      ],
      "execution_count": 8,
      "outputs": []
    },
    {
      "cell_type": "code",
      "metadata": {
        "colab": {
          "base_uri": "https://localhost:8080/"
        },
        "id": "jFpLhQ0s7dN1",
        "outputId": "4b481f02-cdda-4c1e-ac8e-8f31cc705393"
      },
      "source": [
        "from random import random as rand\n",
        "rand()"
      ],
      "execution_count": 9,
      "outputs": [
        {
          "output_type": "execute_result",
          "data": {
            "text/plain": [
              "8.998758149569852e-05"
            ]
          },
          "metadata": {
            "tags": []
          },
          "execution_count": 9
        }
      ]
    },
    {
      "cell_type": "code",
      "metadata": {
        "colab": {
          "base_uri": "https://localhost:8080/"
        },
        "id": "lkU77lla2m_z",
        "outputId": "4dec39fb-9141-470d-e645-cdc329e92331"
      },
      "source": [
        "children=genHijos(8)\n",
        "gens=0\n",
        "inicio = int(time() * 1000)\n",
        "children=sort(children)\n",
        "while(children[0].val<0.98 or gens>5):\n",
        "  children = nextGen(children)[:8]\n",
        "  sum=0\n",
        "  for c in children:\n",
        "    print(c.code, c.val)\n",
        "    sum+=c.val\n",
        "  print(\"promedio: \", sum/len(children))\n",
        "  gens+=1\n",
        "fin = int(time() * 1000)\n",
        "print(\"tiempo: \", fin-inicio/1000)   \n",
        "print(\"mejor:\", children[0].code, children[0].val)\n",
        "print(\"numero de generaciones: \", gens)"
      ],
      "execution_count": null,
      "outputs": [
        {
          "output_type": "stream",
          "text": [
            "53/53 - 0s - loss: 0.4218 - accuracy: 0.8288\n",
            "teminado, épocas:  146\n",
            "53/53 - 0s - loss: 0.2330 - accuracy: 0.9028\n",
            "teminado, épocas:  431\n"
          ],
          "name": "stdout"
        }
      ]
    }
  ]
}